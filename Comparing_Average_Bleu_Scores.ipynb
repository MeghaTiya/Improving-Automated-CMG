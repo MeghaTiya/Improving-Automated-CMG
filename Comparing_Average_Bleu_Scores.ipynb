{
  "cells": [
    {
      "cell_type": "markdown",
      "metadata": {
        "id": "_Vi1tJJ-pGJ5"
      },
      "source": [
        "## Comparing Average Bleu Scores"
      ]
    },
    {
      "cell_type": "markdown",
      "metadata": {
        "id": "MYh6UxnkpGKO"
      },
      "source": [
        "### For original data"
      ]
    },
    {
      "cell_type": "code",
      "execution_count": null,
      "metadata": {
        "id": "q6UeZ65opGKT"
      },
      "outputs": [],
      "source": [
        "!pip install torch\n",
        "!pip install tqdm\n",
        "!pip install nltk\n",
        "!pip install numpy\n",
        "!pip install scikit-learn"
      ]
    },
    {
      "cell_type": "code",
      "execution_count": null,
      "metadata": {
        "id": "M7rQr2sopGKc",
        "outputId": "2ada0672-d3cf-48c8-b681-a436337d3d3e"
      },
      "outputs": [
        {
          "name": "stdout",
          "output_type": "stream",
          "text": [
            "100%|█████████████████████████████████████████| 691/691 [06:46<00:00,  1.70it/s]\n",
            "Training: Epoch 1 / 2 -- Total loss: 545.061462\n",
            "100%|█████████████████████████████████████████| 691/691 [06:44<00:00,  1.71it/s]\n",
            "Training: Epoch 2 / 2 -- Total loss: 480.595276\n",
            "--------------------------------------------------------------------------------\n",
            "--------------------------Finish the training process---------------------------\n",
            "--------------------------------------------------------------------------------\n"
          ]
        }
      ],
      "source": [
        "!python lmg_cc2ftr.py -train -train_data train.pkl -dictionary_data dict.pkl -batch_size 32"
      ]
    },
    {
      "cell_type": "code",
      "execution_count": null,
      "metadata": {
        "id": "GggvYKyepGKe",
        "outputId": "e5268bc7-15c5-4dcc-fb22-f8412de6f152"
      },
      "outputs": [
        {
          "name": "stdout",
          "output_type": "stream",
          "text": [
            "100%|█████████████████████████████████████████| 277/277 [00:20<00:00, 13.53it/s]\n",
            "--------------------------------------------------------------------------------\n",
            "--------------------------Finish the extracting process-------------------------\n",
            "--------------------------------------------------------------------------------\n"
          ]
        }
      ],
      "source": [
        "!python lmg_cc2ftr.py -predict -pred_data test.pkl -dictionary_data dict.pkl -load_model cc2ftr.pt -name output.pkl"
      ]
    },
    {
      "cell_type": "code",
      "execution_count": null,
      "metadata": {
        "id": "q2CJGylwpGKg",
        "outputId": "f45bb75c-a2e3-498f-b651-6e713a1a815b"
      },
      "outputs": [
        {
          "name": "stdout",
          "output_type": "stream",
          "text": [
            "100%|█████████████████████████████████████| 2216/2216 [3:07:04<00:00,  5.07s/it]\n",
            "Average of blue scores: 20.579069529524507\n"
          ]
        }
      ],
      "source": [
        "!python lmg_eval.py -train_data train.pkl -test_data test.pkl -train_cc2ftr_data train_cc2ftr.pkl -test_cc2ftr_data test_cc2ftr.pkl "
      ]
    },
    {
      "cell_type": "markdown",
      "metadata": {
        "id": "pHVVuOUEpGKi"
      },
      "source": [
        "#### Average Bleu Scores of original data: 20.579069529524507"
      ]
    },
    {
      "cell_type": "markdown",
      "metadata": {
        "id": "NyBbm69UpGKk"
      },
      "source": [
        "### For new data"
      ]
    },
    {
      "cell_type": "code",
      "execution_count": null,
      "metadata": {
        "id": "6egvZbw7pGKm"
      },
      "outputs": [],
      "source": [
        "!pip install torch\n",
        "!pip install tqdm\n",
        "!pip install nltk\n",
        "!pip install numpy\n",
        "!pip install scikit-learn"
      ]
    },
    {
      "cell_type": "code",
      "execution_count": null,
      "metadata": {
        "id": "fmNUnof7pGKo",
        "outputId": "f0072f19-b8fd-46a4-95c3-d6381f32cf82"
      },
      "outputs": [
        {
          "name": "stdout",
          "output_type": "stream",
          "text": [
            "100%|█████████████████████████████████████████| 691/691 [06:49<00:00,  1.69it/s]\n",
            "Training: Epoch 1 / 2 -- Total loss: 542.091370\n",
            "100%|█████████████████████████████████████████| 691/691 [06:44<00:00,  1.71it/s]\n",
            "Training: Epoch 2 / 2 -- Total loss: 481.489777\n",
            "--------------------------------------------------------------------------------\n",
            "--------------------------Finish the training process---------------------------\n",
            "--------------------------------------------------------------------------------\n"
          ]
        }
      ],
      "source": [
        "!python lmg_cc2ftr.py -train -train_data newtrain.pkl -dictionary_data newdict.pkl -batch_size 32"
      ]
    },
    {
      "cell_type": "code",
      "execution_count": null,
      "metadata": {
        "id": "tFlRCbuxpGKp",
        "outputId": "c11b2d92-88b7-4486-b535-eacd030a24f0"
      },
      "outputs": [
        {
          "name": "stdout",
          "output_type": "stream",
          "text": [
            "100%|█████████████████████████████████████████| 277/277 [00:20<00:00, 13.54it/s]\n",
            "--------------------------------------------------------------------------------\n",
            "--------------------------Finish the extracting process-------------------------\n",
            "--------------------------------------------------------------------------------\n"
          ]
        }
      ],
      "source": [
        "!python lmg_cc2ftr.py -predict -pred_data newtest.pkl -dictionary_data newdict.pkl -load_model snapshot/2021-12-20_08-02-07/epoch_2.pt -name newoutputtest.pkl"
      ]
    },
    {
      "cell_type": "code",
      "execution_count": null,
      "metadata": {
        "id": "mTgk_OKKpGKq",
        "outputId": "92cb0a8d-66c3-469f-d98e-1c9b88aa82ec"
      },
      "outputs": [
        {
          "name": "stdout",
          "output_type": "stream",
          "text": [
            "100%|█████████████████████████████████████| 2216/2216 [3:14:15<00:00,  5.26s/it]\n",
            "Average of blue scores: 21.113468382170318\n"
          ]
        }
      ],
      "source": [
        "!python lmg_eval.py -train_data newtrain.pkl -test_data newtest.pkl -train_cc2ftr_data train_cc2ftr.pkl -test_cc2ftr_data test_cc2ftr.pkl "
      ]
    },
    {
      "cell_type": "markdown",
      "metadata": {
        "id": "vad-eYzQpGKs"
      },
      "source": [
        "#### Average Bleu Scores of new data: 21.113468382170318"
      ]
    }
  ],
  "metadata": {
    "kernelspec": {
      "display_name": "Python 3",
      "language": "python",
      "name": "python3"
    },
    "language_info": {
      "codemirror_mode": {
        "name": "ipython",
        "version": 3
      },
      "file_extension": ".py",
      "mimetype": "text/x-python",
      "name": "python",
      "nbconvert_exporter": "python",
      "pygments_lexer": "ipython3",
      "version": "3.8.5"
    },
    "colab": {
      "name": "Comparing Average Bleu Scores.ipynb",
      "provenance": []
    }
  },
  "nbformat": 4,
  "nbformat_minor": 0
}