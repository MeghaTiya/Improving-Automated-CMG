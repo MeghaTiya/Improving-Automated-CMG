{
  "cells": [
    {
      "cell_type": "markdown",
      "metadata": {
        "id": "AjTMEdx9o9Ai"
      },
      "source": [
        "## Comparing Isotropy of Outputs"
      ]
    },
    {
      "cell_type": "code",
      "execution_count": null,
      "metadata": {
        "id": "KHln1ICHo9BA"
      },
      "outputs": [],
      "source": [
        "import numpy as np \n",
        "import pandas as pd \n",
        "import math as mt\n",
        "import matplotlib.pyplot as plt\n",
        "import pickle"
      ]
    },
    {
      "cell_type": "code",
      "execution_count": null,
      "metadata": {
        "id": "hS4DYJ9oo9BG",
        "outputId": "28107c92-4e17-484d-b042-0ffc41561220"
      },
      "outputs": [
        {
          "data": {
            "text/html": [
              "<div>\n",
              "<style scoped>\n",
              "    .dataframe tbody tr th:only-of-type {\n",
              "        vertical-align: middle;\n",
              "    }\n",
              "\n",
              "    .dataframe tbody tr th {\n",
              "        vertical-align: top;\n",
              "    }\n",
              "\n",
              "    .dataframe thead th {\n",
              "        text-align: right;\n",
              "    }\n",
              "</style>\n",
              "<table border=\"1\" class=\"dataframe\">\n",
              "  <thead>\n",
              "    <tr style=\"text-align: right;\">\n",
              "      <th></th>\n",
              "      <th>0</th>\n",
              "      <th>1</th>\n",
              "      <th>2</th>\n",
              "      <th>3</th>\n",
              "      <th>4</th>\n",
              "      <th>5</th>\n",
              "      <th>6</th>\n",
              "      <th>7</th>\n",
              "      <th>8</th>\n",
              "      <th>9</th>\n",
              "      <th>...</th>\n",
              "      <th>490</th>\n",
              "      <th>491</th>\n",
              "      <th>492</th>\n",
              "      <th>493</th>\n",
              "      <th>494</th>\n",
              "      <th>495</th>\n",
              "      <th>496</th>\n",
              "      <th>497</th>\n",
              "      <th>498</th>\n",
              "      <th>499</th>\n",
              "    </tr>\n",
              "  </thead>\n",
              "  <tbody>\n",
              "    <tr>\n",
              "      <th>0</th>\n",
              "      <td>0.0</td>\n",
              "      <td>0.0</td>\n",
              "      <td>0.0</td>\n",
              "      <td>0.0</td>\n",
              "      <td>0.0</td>\n",
              "      <td>0.0</td>\n",
              "      <td>0.0</td>\n",
              "      <td>0.0</td>\n",
              "      <td>0.0</td>\n",
              "      <td>0.0</td>\n",
              "      <td>...</td>\n",
              "      <td>15.900994</td>\n",
              "      <td>0.0</td>\n",
              "      <td>0.0</td>\n",
              "      <td>0.0</td>\n",
              "      <td>0.0</td>\n",
              "      <td>0.0</td>\n",
              "      <td>15.086040</td>\n",
              "      <td>0.0</td>\n",
              "      <td>0.0</td>\n",
              "      <td>0.000000</td>\n",
              "    </tr>\n",
              "    <tr>\n",
              "      <th>1</th>\n",
              "      <td>0.0</td>\n",
              "      <td>0.0</td>\n",
              "      <td>0.0</td>\n",
              "      <td>0.0</td>\n",
              "      <td>0.0</td>\n",
              "      <td>0.0</td>\n",
              "      <td>0.0</td>\n",
              "      <td>0.0</td>\n",
              "      <td>0.0</td>\n",
              "      <td>0.0</td>\n",
              "      <td>...</td>\n",
              "      <td>16.296925</td>\n",
              "      <td>0.0</td>\n",
              "      <td>0.0</td>\n",
              "      <td>0.0</td>\n",
              "      <td>0.0</td>\n",
              "      <td>0.0</td>\n",
              "      <td>15.917006</td>\n",
              "      <td>0.0</td>\n",
              "      <td>0.0</td>\n",
              "      <td>0.000000</td>\n",
              "    </tr>\n",
              "    <tr>\n",
              "      <th>2</th>\n",
              "      <td>0.0</td>\n",
              "      <td>0.0</td>\n",
              "      <td>0.0</td>\n",
              "      <td>0.0</td>\n",
              "      <td>0.0</td>\n",
              "      <td>0.0</td>\n",
              "      <td>0.0</td>\n",
              "      <td>0.0</td>\n",
              "      <td>0.0</td>\n",
              "      <td>0.0</td>\n",
              "      <td>...</td>\n",
              "      <td>16.254076</td>\n",
              "      <td>0.0</td>\n",
              "      <td>0.0</td>\n",
              "      <td>0.0</td>\n",
              "      <td>0.0</td>\n",
              "      <td>0.0</td>\n",
              "      <td>15.881575</td>\n",
              "      <td>0.0</td>\n",
              "      <td>0.0</td>\n",
              "      <td>0.000000</td>\n",
              "    </tr>\n",
              "    <tr>\n",
              "      <th>3</th>\n",
              "      <td>0.0</td>\n",
              "      <td>0.0</td>\n",
              "      <td>0.0</td>\n",
              "      <td>0.0</td>\n",
              "      <td>0.0</td>\n",
              "      <td>0.0</td>\n",
              "      <td>0.0</td>\n",
              "      <td>0.0</td>\n",
              "      <td>0.0</td>\n",
              "      <td>0.0</td>\n",
              "      <td>...</td>\n",
              "      <td>16.577074</td>\n",
              "      <td>0.0</td>\n",
              "      <td>0.0</td>\n",
              "      <td>0.0</td>\n",
              "      <td>0.0</td>\n",
              "      <td>0.0</td>\n",
              "      <td>15.942196</td>\n",
              "      <td>0.0</td>\n",
              "      <td>0.0</td>\n",
              "      <td>0.000000</td>\n",
              "    </tr>\n",
              "    <tr>\n",
              "      <th>4</th>\n",
              "      <td>0.0</td>\n",
              "      <td>0.0</td>\n",
              "      <td>0.0</td>\n",
              "      <td>0.0</td>\n",
              "      <td>0.0</td>\n",
              "      <td>0.0</td>\n",
              "      <td>0.0</td>\n",
              "      <td>0.0</td>\n",
              "      <td>0.0</td>\n",
              "      <td>0.0</td>\n",
              "      <td>...</td>\n",
              "      <td>16.702976</td>\n",
              "      <td>0.0</td>\n",
              "      <td>0.0</td>\n",
              "      <td>0.0</td>\n",
              "      <td>0.0</td>\n",
              "      <td>0.0</td>\n",
              "      <td>16.238155</td>\n",
              "      <td>0.0</td>\n",
              "      <td>0.0</td>\n",
              "      <td>0.726643</td>\n",
              "    </tr>\n",
              "  </tbody>\n",
              "</table>\n",
              "<p>5 rows × 500 columns</p>\n",
              "</div>"
            ],
            "text/plain": [
              "   0    1    2    3    4    5    6    7    8    9    ...        490  491  492  \\\n",
              "0  0.0  0.0  0.0  0.0  0.0  0.0  0.0  0.0  0.0  0.0  ...  15.900994  0.0  0.0   \n",
              "1  0.0  0.0  0.0  0.0  0.0  0.0  0.0  0.0  0.0  0.0  ...  16.296925  0.0  0.0   \n",
              "2  0.0  0.0  0.0  0.0  0.0  0.0  0.0  0.0  0.0  0.0  ...  16.254076  0.0  0.0   \n",
              "3  0.0  0.0  0.0  0.0  0.0  0.0  0.0  0.0  0.0  0.0  ...  16.577074  0.0  0.0   \n",
              "4  0.0  0.0  0.0  0.0  0.0  0.0  0.0  0.0  0.0  0.0  ...  16.702976  0.0  0.0   \n",
              "\n",
              "   493  494  495        496  497  498       499  \n",
              "0  0.0  0.0  0.0  15.086040  0.0  0.0  0.000000  \n",
              "1  0.0  0.0  0.0  15.917006  0.0  0.0  0.000000  \n",
              "2  0.0  0.0  0.0  15.881575  0.0  0.0  0.000000  \n",
              "3  0.0  0.0  0.0  15.942196  0.0  0.0  0.000000  \n",
              "4  0.0  0.0  0.0  16.238155  0.0  0.0  0.726643  \n",
              "\n",
              "[5 rows x 500 columns]"
            ]
          },
          "execution_count": 2,
          "metadata": {},
          "output_type": "execute_result"
        }
      ],
      "source": [
        "path ='C:/Users/Dell/IBM GRM Extension/Anisotropy/output.pkl' #path='/root/……/aus_openface.pkl' Path where the pkl file is located\n",
        "\n",
        "f = open(path,'rb')\n",
        "output = np.array(pickle.load(f))\n",
        "f.close()\n",
        "\n",
        "outputdf = pd.DataFrame(output)\n",
        "outputdf.head()"
      ]
    },
    {
      "cell_type": "code",
      "execution_count": null,
      "metadata": {
        "id": "RPaPmLL6o9BL",
        "outputId": "12c06dd1-b777-4224-e254-cb69e5f2a408"
      },
      "outputs": [
        {
          "data": {
            "text/html": [
              "<div>\n",
              "<style scoped>\n",
              "    .dataframe tbody tr th:only-of-type {\n",
              "        vertical-align: middle;\n",
              "    }\n",
              "\n",
              "    .dataframe tbody tr th {\n",
              "        vertical-align: top;\n",
              "    }\n",
              "\n",
              "    .dataframe thead th {\n",
              "        text-align: right;\n",
              "    }\n",
              "</style>\n",
              "<table border=\"1\" class=\"dataframe\">\n",
              "  <thead>\n",
              "    <tr style=\"text-align: right;\">\n",
              "      <th></th>\n",
              "      <th>0</th>\n",
              "      <th>1</th>\n",
              "      <th>2</th>\n",
              "      <th>3</th>\n",
              "      <th>4</th>\n",
              "      <th>5</th>\n",
              "      <th>6</th>\n",
              "      <th>7</th>\n",
              "      <th>8</th>\n",
              "      <th>9</th>\n",
              "      <th>...</th>\n",
              "      <th>490</th>\n",
              "      <th>491</th>\n",
              "      <th>492</th>\n",
              "      <th>493</th>\n",
              "      <th>494</th>\n",
              "      <th>495</th>\n",
              "      <th>496</th>\n",
              "      <th>497</th>\n",
              "      <th>498</th>\n",
              "      <th>499</th>\n",
              "    </tr>\n",
              "  </thead>\n",
              "  <tbody>\n",
              "    <tr>\n",
              "      <th>0</th>\n",
              "      <td>0.0</td>\n",
              "      <td>0.0</td>\n",
              "      <td>0.0</td>\n",
              "      <td>0.0</td>\n",
              "      <td>0.0</td>\n",
              "      <td>0.0</td>\n",
              "      <td>0.0</td>\n",
              "      <td>0.0</td>\n",
              "      <td>0.0</td>\n",
              "      <td>0.0</td>\n",
              "      <td>...</td>\n",
              "      <td>0.0</td>\n",
              "      <td>14.500525</td>\n",
              "      <td>13.599455</td>\n",
              "      <td>0.0</td>\n",
              "      <td>14.551217</td>\n",
              "      <td>0.0</td>\n",
              "      <td>0.0</td>\n",
              "      <td>14.188415</td>\n",
              "      <td>1510.482666</td>\n",
              "      <td>1493.340088</td>\n",
              "    </tr>\n",
              "    <tr>\n",
              "      <th>1</th>\n",
              "      <td>0.0</td>\n",
              "      <td>0.0</td>\n",
              "      <td>0.0</td>\n",
              "      <td>0.0</td>\n",
              "      <td>0.0</td>\n",
              "      <td>0.0</td>\n",
              "      <td>0.0</td>\n",
              "      <td>0.0</td>\n",
              "      <td>0.0</td>\n",
              "      <td>0.0</td>\n",
              "      <td>...</td>\n",
              "      <td>0.0</td>\n",
              "      <td>14.420261</td>\n",
              "      <td>13.804914</td>\n",
              "      <td>0.0</td>\n",
              "      <td>14.627399</td>\n",
              "      <td>0.0</td>\n",
              "      <td>0.0</td>\n",
              "      <td>14.308491</td>\n",
              "      <td>1523.388550</td>\n",
              "      <td>1504.423584</td>\n",
              "    </tr>\n",
              "    <tr>\n",
              "      <th>2</th>\n",
              "      <td>0.0</td>\n",
              "      <td>0.0</td>\n",
              "      <td>0.0</td>\n",
              "      <td>0.0</td>\n",
              "      <td>0.0</td>\n",
              "      <td>0.0</td>\n",
              "      <td>0.0</td>\n",
              "      <td>0.0</td>\n",
              "      <td>0.0</td>\n",
              "      <td>0.0</td>\n",
              "      <td>...</td>\n",
              "      <td>0.0</td>\n",
              "      <td>14.218019</td>\n",
              "      <td>13.675865</td>\n",
              "      <td>0.0</td>\n",
              "      <td>14.422848</td>\n",
              "      <td>0.0</td>\n",
              "      <td>0.0</td>\n",
              "      <td>14.269632</td>\n",
              "      <td>1490.575439</td>\n",
              "      <td>1481.760132</td>\n",
              "    </tr>\n",
              "    <tr>\n",
              "      <th>3</th>\n",
              "      <td>0.0</td>\n",
              "      <td>0.0</td>\n",
              "      <td>0.0</td>\n",
              "      <td>0.0</td>\n",
              "      <td>0.0</td>\n",
              "      <td>0.0</td>\n",
              "      <td>0.0</td>\n",
              "      <td>0.0</td>\n",
              "      <td>0.0</td>\n",
              "      <td>0.0</td>\n",
              "      <td>...</td>\n",
              "      <td>0.0</td>\n",
              "      <td>14.941875</td>\n",
              "      <td>14.350095</td>\n",
              "      <td>0.0</td>\n",
              "      <td>15.019228</td>\n",
              "      <td>0.0</td>\n",
              "      <td>0.0</td>\n",
              "      <td>14.908100</td>\n",
              "      <td>1631.519775</td>\n",
              "      <td>1633.545654</td>\n",
              "    </tr>\n",
              "    <tr>\n",
              "      <th>4</th>\n",
              "      <td>0.0</td>\n",
              "      <td>0.0</td>\n",
              "      <td>0.0</td>\n",
              "      <td>0.0</td>\n",
              "      <td>0.0</td>\n",
              "      <td>0.0</td>\n",
              "      <td>0.0</td>\n",
              "      <td>0.0</td>\n",
              "      <td>0.0</td>\n",
              "      <td>0.0</td>\n",
              "      <td>...</td>\n",
              "      <td>0.0</td>\n",
              "      <td>14.860146</td>\n",
              "      <td>14.436577</td>\n",
              "      <td>0.0</td>\n",
              "      <td>15.178185</td>\n",
              "      <td>0.0</td>\n",
              "      <td>0.0</td>\n",
              "      <td>14.883581</td>\n",
              "      <td>1636.825195</td>\n",
              "      <td>1640.255371</td>\n",
              "    </tr>\n",
              "  </tbody>\n",
              "</table>\n",
              "<p>5 rows × 500 columns</p>\n",
              "</div>"
            ],
            "text/plain": [
              "   0    1    2    3    4    5    6    7    8    9    ...  490        491  \\\n",
              "0  0.0  0.0  0.0  0.0  0.0  0.0  0.0  0.0  0.0  0.0  ...  0.0  14.500525   \n",
              "1  0.0  0.0  0.0  0.0  0.0  0.0  0.0  0.0  0.0  0.0  ...  0.0  14.420261   \n",
              "2  0.0  0.0  0.0  0.0  0.0  0.0  0.0  0.0  0.0  0.0  ...  0.0  14.218019   \n",
              "3  0.0  0.0  0.0  0.0  0.0  0.0  0.0  0.0  0.0  0.0  ...  0.0  14.941875   \n",
              "4  0.0  0.0  0.0  0.0  0.0  0.0  0.0  0.0  0.0  0.0  ...  0.0  14.860146   \n",
              "\n",
              "         492  493        494  495  496        497          498          499  \n",
              "0  13.599455  0.0  14.551217  0.0  0.0  14.188415  1510.482666  1493.340088  \n",
              "1  13.804914  0.0  14.627399  0.0  0.0  14.308491  1523.388550  1504.423584  \n",
              "2  13.675865  0.0  14.422848  0.0  0.0  14.269632  1490.575439  1481.760132  \n",
              "3  14.350095  0.0  15.019228  0.0  0.0  14.908100  1631.519775  1633.545654  \n",
              "4  14.436577  0.0  15.178185  0.0  0.0  14.883581  1636.825195  1640.255371  \n",
              "\n",
              "[5 rows x 500 columns]"
            ]
          },
          "execution_count": 3,
          "metadata": {},
          "output_type": "execute_result"
        }
      ],
      "source": [
        "path ='C:/Users/Dell/IBM GRM Extension/Anisotropy/newoutputtest.pkl' #path='/root/……/aus_openface.pkl' Path where the pkl file is located\n",
        "\n",
        "f = open(path,'rb')\n",
        "newoutput = np.array(pickle.load(f))\n",
        "f.close()\n",
        "\n",
        "newoutputdf = pd.DataFrame(newoutput)\n",
        "newoutputdf.head()"
      ]
    },
    {
      "cell_type": "markdown",
      "metadata": {
        "id": "7KrigsOeo9BO"
      },
      "source": [
        "## Isotropy considering non-zero columns"
      ]
    },
    {
      "cell_type": "markdown",
      "metadata": {
        "id": "RR-_Axqwo9BQ"
      },
      "source": [
        "### For original output"
      ]
    },
    {
      "cell_type": "code",
      "execution_count": null,
      "metadata": {
        "id": "Fit69q_lo9BS",
        "outputId": "a12986d0-5132-4002-e1a6-db3c66f15120"
      },
      "outputs": [
        {
          "data": {
            "text/plain": [
              "(2216, 457)"
            ]
          },
          "execution_count": 4,
          "metadata": {},
          "output_type": "execute_result"
        }
      ],
      "source": [
        "W_nonz = np.array(outputdf.loc[:, (outputdf != 0).any(axis=0)])\n",
        "W_nonz.shape"
      ]
    },
    {
      "cell_type": "code",
      "execution_count": null,
      "metadata": {
        "id": "k_6a9jCeo9BV",
        "outputId": "1551552f-ba94-4397-ce6d-f78ee403dc61"
      },
      "outputs": [
        {
          "name": "stdout",
          "output_type": "stream",
          "text": [
            "1.5989502e-09\n"
          ]
        }
      ],
      "source": [
        "W_nonz = np.array(outputdf.loc[:, (outputdf != 0).any(axis=0)])\n",
        "\n",
        "U = np.linalg.eig(np.matmul(np.transpose(W_nonz),W_nonz))[1]\n",
        "\n",
        "V = np.concatenate((W_nonz, U))\n",
        "\n",
        "\n",
        "def isotropy(W):\n",
        "\n",
        "    U = np.linalg.eig(np.matmul(np.transpose(W),W))[1]\n",
        "\n",
        "    max_f = -mt.inf\n",
        "    min_f =  mt.inf\n",
        "\n",
        "    for i in range(U.shape[1]):\n",
        "\n",
        "        f = np.exp(np.matmul(W, np.expand_dims(U[:, i], 1)))\n",
        "        f = np.sum(f)\n",
        "        \n",
        "\n",
        "        if f != 0:\n",
        "            min_f = min(min_f, f)\n",
        "        max_f = max(max_f, f)        \n",
        "\n",
        "    isotropy = min_f / max_f\n",
        "\n",
        "    return isotropy\n",
        "\n",
        "print(isotropy(W_nonz))"
      ]
    },
    {
      "cell_type": "markdown",
      "metadata": {
        "id": "PC2aJQh_o9Ba"
      },
      "source": [
        "#### Isotropy of original output considering non-zero columns: 1.5989502e-09"
      ]
    },
    {
      "cell_type": "markdown",
      "metadata": {
        "id": "lq73whMqo9Bd"
      },
      "source": [
        "### For new output"
      ]
    },
    {
      "cell_type": "code",
      "execution_count": null,
      "metadata": {
        "id": "EzOagqbUo9Be",
        "outputId": "5f6d4b7c-d506-4787-f6dc-bc97e8064c51"
      },
      "outputs": [
        {
          "data": {
            "text/plain": [
              "(2216, 459)"
            ]
          },
          "execution_count": 6,
          "metadata": {},
          "output_type": "execute_result"
        }
      ],
      "source": [
        "W_nonz = np.array(newoutputdf.loc[:, (newoutputdf != 0).any(axis=0)])\n",
        "W_nonz.shape"
      ]
    },
    {
      "cell_type": "code",
      "execution_count": null,
      "metadata": {
        "id": "GgtgzTJPo9Bg",
        "outputId": "1e7768bd-a1df-452a-dd38-fffca1b41cbe"
      },
      "outputs": [
        {
          "name": "stdout",
          "output_type": "stream",
          "text": [
            "5.5878093e-08\n"
          ]
        }
      ],
      "source": [
        "W_nonz = np.array(newoutputdf.loc[:, (newoutputdf != 0).any(axis=0)])\n",
        "\n",
        "U = np.linalg.eig(np.matmul(np.transpose(W_nonz),W_nonz))[1]\n",
        "\n",
        "V = np.concatenate((W_nonz, U))\n",
        "\n",
        "\n",
        "def isotropy(W):\n",
        "\n",
        "    U = np.linalg.eig(np.matmul(np.transpose(W),W))[1]\n",
        "\n",
        "    max_f = -mt.inf\n",
        "    min_f =  mt.inf\n",
        "\n",
        "    for i in range(U.shape[1]):\n",
        "\n",
        "        f = np.exp(np.matmul(W, np.expand_dims(U[:, i], 1)))\n",
        "        f = np.sum(f)\n",
        "        \n",
        "\n",
        "        if f != 0:\n",
        "            min_f = min(min_f, f)\n",
        "        max_f = max(max_f, f)        \n",
        "\n",
        "    isotropy = min_f / max_f\n",
        "\n",
        "    return isotropy\n",
        "\n",
        "print(isotropy(W_nonz))"
      ]
    },
    {
      "cell_type": "markdown",
      "metadata": {
        "id": "4iIHx7Bvo9Bj"
      },
      "source": [
        "#### Isotropy of new output considering non-zero columns: 5.5878093e-08"
      ]
    },
    {
      "cell_type": "code",
      "execution_count": null,
      "metadata": {
        "id": "yA4zD_dso9Bk",
        "outputId": "965d5bd4-be8d-41e9-d332-e766a8c3d90a"
      },
      "outputs": [
        {
          "data": {
            "text/plain": [
              "5.5878093e-08"
            ]
          },
          "execution_count": 8,
          "metadata": {},
          "output_type": "execute_result"
        }
      ],
      "source": [
        "max(5.5878093e-08, 1.5989502e-09)"
      ]
    },
    {
      "cell_type": "markdown",
      "metadata": {
        "id": "SXiJQf7jo9Bm"
      },
      "source": [
        "### The new output is more isotropic than original output.\n",
        "### Thus, isotropy of embedding space has improved."
      ]
    }
  ],
  "metadata": {
    "kernelspec": {
      "display_name": "Python 3",
      "language": "python",
      "name": "python3"
    },
    "language_info": {
      "codemirror_mode": {
        "name": "ipython",
        "version": 3
      },
      "file_extension": ".py",
      "mimetype": "text/x-python",
      "name": "python",
      "nbconvert_exporter": "python",
      "pygments_lexer": "ipython3",
      "version": "3.8.5"
    },
    "colab": {
      "name": "Comparing Isotropy of Outputs.ipynb",
      "provenance": []
    }
  },
  "nbformat": 4,
  "nbformat_minor": 0
}